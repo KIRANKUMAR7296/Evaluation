{
 "cells": [
  {
   "cell_type": "markdown",
   "metadata": {},
   "source": [
    "# Evaluation of the Model\n",
    "\n",
    "### Three Ways to Evaluate Scikit Learn Model / Estimator.\n",
    "\n",
    "**A.Estimator Score Method**\n",
    "\n",
    "**B.The Scoring Parameter**\n",
    "\n",
    "**C.Problem Specific Metric Function**\n",
    "\n",
    "## Evaluation of a Classification Model\n",
    "\n",
    "### Classification Model Evaluation Metrics\n",
    "\n",
    "**1.Accuracy**\n",
    "\n",
    "**2.Confusion Matrix**\n",
    "\n",
    "**3.Classification Report**\n",
    "\n",
    "**4.Area Under ROC**\n",
    "\n",
    "\n",
    "**Import Libraries**"
   ]
  },
  {
   "cell_type": "code",
   "execution_count": 1,
   "metadata": {},
   "outputs": [],
   "source": [
    "import pandas as pd\n",
    "import numpy as np\n",
    "import matplotlib.pyplot as plt\n",
    "import warnings\n",
    "warnings.simplefilter('ignore')"
   ]
  },
  {
   "cell_type": "markdown",
   "metadata": {},
   "source": [
    "**Import Data Set**"
   ]
  },
  {
   "cell_type": "code",
   "execution_count": 2,
   "metadata": {},
   "outputs": [
    {
     "data": {
      "text/html": [
       "<div>\n",
       "<style scoped>\n",
       "    .dataframe tbody tr th:only-of-type {\n",
       "        vertical-align: middle;\n",
       "    }\n",
       "\n",
       "    .dataframe tbody tr th {\n",
       "        vertical-align: top;\n",
       "    }\n",
       "\n",
       "    .dataframe thead th {\n",
       "        text-align: right;\n",
       "    }\n",
       "</style>\n",
       "<table border=\"1\" class=\"dataframe\">\n",
       "  <thead>\n",
       "    <tr style=\"text-align: right;\">\n",
       "      <th></th>\n",
       "      <th>age</th>\n",
       "      <th>sex</th>\n",
       "      <th>cp</th>\n",
       "      <th>trestbps</th>\n",
       "      <th>chol</th>\n",
       "      <th>fbs</th>\n",
       "      <th>restecg</th>\n",
       "      <th>thalach</th>\n",
       "      <th>exang</th>\n",
       "      <th>oldpeak</th>\n",
       "      <th>slope</th>\n",
       "      <th>ca</th>\n",
       "      <th>thal</th>\n",
       "      <th>target</th>\n",
       "    </tr>\n",
       "  </thead>\n",
       "  <tbody>\n",
       "    <tr>\n",
       "      <td>0</td>\n",
       "      <td>63</td>\n",
       "      <td>1</td>\n",
       "      <td>3</td>\n",
       "      <td>145</td>\n",
       "      <td>233</td>\n",
       "      <td>1</td>\n",
       "      <td>0</td>\n",
       "      <td>150</td>\n",
       "      <td>0</td>\n",
       "      <td>2.3</td>\n",
       "      <td>0</td>\n",
       "      <td>0</td>\n",
       "      <td>1</td>\n",
       "      <td>1</td>\n",
       "    </tr>\n",
       "    <tr>\n",
       "      <td>1</td>\n",
       "      <td>37</td>\n",
       "      <td>1</td>\n",
       "      <td>2</td>\n",
       "      <td>130</td>\n",
       "      <td>250</td>\n",
       "      <td>0</td>\n",
       "      <td>1</td>\n",
       "      <td>187</td>\n",
       "      <td>0</td>\n",
       "      <td>3.5</td>\n",
       "      <td>0</td>\n",
       "      <td>0</td>\n",
       "      <td>2</td>\n",
       "      <td>1</td>\n",
       "    </tr>\n",
       "    <tr>\n",
       "      <td>2</td>\n",
       "      <td>41</td>\n",
       "      <td>0</td>\n",
       "      <td>1</td>\n",
       "      <td>130</td>\n",
       "      <td>204</td>\n",
       "      <td>0</td>\n",
       "      <td>0</td>\n",
       "      <td>172</td>\n",
       "      <td>0</td>\n",
       "      <td>1.4</td>\n",
       "      <td>2</td>\n",
       "      <td>0</td>\n",
       "      <td>2</td>\n",
       "      <td>1</td>\n",
       "    </tr>\n",
       "    <tr>\n",
       "      <td>3</td>\n",
       "      <td>56</td>\n",
       "      <td>1</td>\n",
       "      <td>1</td>\n",
       "      <td>120</td>\n",
       "      <td>236</td>\n",
       "      <td>0</td>\n",
       "      <td>1</td>\n",
       "      <td>178</td>\n",
       "      <td>0</td>\n",
       "      <td>0.8</td>\n",
       "      <td>2</td>\n",
       "      <td>0</td>\n",
       "      <td>2</td>\n",
       "      <td>1</td>\n",
       "    </tr>\n",
       "    <tr>\n",
       "      <td>4</td>\n",
       "      <td>57</td>\n",
       "      <td>0</td>\n",
       "      <td>0</td>\n",
       "      <td>120</td>\n",
       "      <td>354</td>\n",
       "      <td>0</td>\n",
       "      <td>1</td>\n",
       "      <td>163</td>\n",
       "      <td>1</td>\n",
       "      <td>0.6</td>\n",
       "      <td>2</td>\n",
       "      <td>0</td>\n",
       "      <td>2</td>\n",
       "      <td>1</td>\n",
       "    </tr>\n",
       "  </tbody>\n",
       "</table>\n",
       "</div>"
      ],
      "text/plain": [
       "   age  sex  cp  trestbps  chol  fbs  restecg  thalach  exang  oldpeak  slope  \\\n",
       "0   63    1   3       145   233    1        0      150      0      2.3      0   \n",
       "1   37    1   2       130   250    0        1      187      0      3.5      0   \n",
       "2   41    0   1       130   204    0        0      172      0      1.4      2   \n",
       "3   56    1   1       120   236    0        1      178      0      0.8      2   \n",
       "4   57    0   0       120   354    0        1      163      1      0.6      2   \n",
       "\n",
       "   ca  thal  target  \n",
       "0   0     1       1  \n",
       "1   0     2       1  \n",
       "2   0     2       1  \n",
       "3   0     2       1  \n",
       "4   0     2       1  "
      ]
     },
     "execution_count": 2,
     "metadata": {},
     "output_type": "execute_result"
    }
   ],
   "source": [
    "Heart = pd.read_csv('Heart Disease.csv')\n",
    "\n",
    "Heart.head()"
   ]
  },
  {
   "cell_type": "markdown",
   "metadata": {},
   "source": [
    "**Checking for Information and whether there is any Categorical Column**"
   ]
  },
  {
   "cell_type": "code",
   "execution_count": 3,
   "metadata": {},
   "outputs": [
    {
     "name": "stdout",
     "output_type": "stream",
     "text": [
      "<class 'pandas.core.frame.DataFrame'>\n",
      "RangeIndex: 303 entries, 0 to 302\n",
      "Data columns (total 14 columns):\n",
      "age         303 non-null int64\n",
      "sex         303 non-null int64\n",
      "cp          303 non-null int64\n",
      "trestbps    303 non-null int64\n",
      "chol        303 non-null int64\n",
      "fbs         303 non-null int64\n",
      "restecg     303 non-null int64\n",
      "thalach     303 non-null int64\n",
      "exang       303 non-null int64\n",
      "oldpeak     303 non-null float64\n",
      "slope       303 non-null int64\n",
      "ca          303 non-null int64\n",
      "thal        303 non-null int64\n",
      "target      303 non-null int64\n",
      "dtypes: float64(1), int64(13)\n",
      "memory usage: 33.3 KB\n",
      "None\n"
     ]
    }
   ],
   "source": [
    "print(Heart.info())"
   ]
  },
  {
   "cell_type": "markdown",
   "metadata": {},
   "source": [
    "**Splitting the Data Set into Independent Features and Dependent Feature Labels**"
   ]
  },
  {
   "cell_type": "code",
   "execution_count": 4,
   "metadata": {},
   "outputs": [],
   "source": [
    "X = Heart.drop('target',axis = 'columns')\n",
    "\n",
    "Y = Heart['target']"
   ]
  },
  {
   "cell_type": "markdown",
   "metadata": {},
   "source": [
    "**Splitting the Data Set into Training and Testing Set**"
   ]
  },
  {
   "cell_type": "code",
   "execution_count": 5,
   "metadata": {},
   "outputs": [],
   "source": [
    "from sklearn.model_selection import train_test_split\n",
    "\n",
    "np.random.seed(101)\n",
    "\n",
    "X_Train, X_Test, Y_Train, Y_Test = train_test_split(X, Y, test_size = 0.3)"
   ]
  },
  {
   "cell_type": "markdown",
   "metadata": {},
   "source": [
    "**X_Train : The Set of Data to be Trained.**\n",
    "\n",
    "**Y_Train : The Set of Labels (Target Variable) of the X_Train Data, This Set of Data is also Trained with X_Train.**\n",
    "\n",
    "**X_Test : The Set of Data on which the Trained Model is to be Tested to Check the Accuracy of Model.**\n",
    "\n",
    "**Y_Test : The Set of Data which will be Compared with the Results of Trained Model to Check Accuracy as well as other Evaluation Metrics.**"
   ]
  },
  {
   "cell_type": "code",
   "execution_count": 6,
   "metadata": {},
   "outputs": [
    {
     "name": "stdout",
     "output_type": "stream",
     "text": [
      "70% of Train Set : (212, 13) and Labels of Train Set : (212,)\n",
      "30% of Test Set : (91, 13) and Labels of Test Set : (91,)\n"
     ]
    }
   ],
   "source": [
    "print(f'70% of Train Set : {X_Train.shape} and Labels of Train Set : {Y_Train.shape}')\n",
    "\n",
    "print(f'30% of Test Set : {X_Test.shape} and Labels of Test Set : {Y_Test.shape}')"
   ]
  },
  {
   "cell_type": "markdown",
   "metadata": {},
   "source": [
    "### According to Scikit Learn Algorithm Map\n",
    "\n",
    "**First we will Try Linear Support Vector Classifier**"
   ]
  },
  {
   "cell_type": "code",
   "execution_count": 7,
   "metadata": {},
   "outputs": [],
   "source": [
    "from sklearn.svm import LinearSVC"
   ]
  },
  {
   "cell_type": "markdown",
   "metadata": {},
   "source": [
    "**Instantiate Linear Support vector Classifier Object**"
   ]
  },
  {
   "cell_type": "code",
   "execution_count": 8,
   "metadata": {},
   "outputs": [],
   "source": [
    "SVC = LinearSVC()"
   ]
  },
  {
   "cell_type": "markdown",
   "metadata": {},
   "source": [
    "**Fit the Data to the Classifier to Find Patterns, in short Train the Model**"
   ]
  },
  {
   "cell_type": "code",
   "execution_count": 9,
   "metadata": {},
   "outputs": [
    {
     "data": {
      "text/plain": [
       "LinearSVC(C=1.0, class_weight=None, dual=True, fit_intercept=True,\n",
       "          intercept_scaling=1, loss='squared_hinge', max_iter=1000,\n",
       "          multi_class='ovr', penalty='l2', random_state=None, tol=0.0001,\n",
       "          verbose=0)"
      ]
     },
     "execution_count": 9,
     "metadata": {},
     "output_type": "execute_result"
    }
   ],
   "source": [
    "SVC.fit(X_Train, Y_Train)"
   ]
  },
  {
   "cell_type": "markdown",
   "metadata": {},
   "source": [
    "## A. Estimator Score Method\n",
    "\n",
    "**Estimators have a Score Method provided as a Default Evaluation**\n",
    "\n",
    "**For Classifiers it's Mean Accuracy**\n",
    "\n",
    "**Check Mean Accuracy / Score**"
   ]
  },
  {
   "cell_type": "code",
   "execution_count": 10,
   "metadata": {},
   "outputs": [
    {
     "name": "stdout",
     "output_type": "stream",
     "text": [
      "Linear Support Vector Classifier Mean Accuracy : 83.52%\n"
     ]
    }
   ],
   "source": [
    "print(f'Linear Support Vector Classifier Mean Accuracy : {SVC.score(X_Test, Y_Test)*100:.2f}%')"
   ]
  },
  {
   "cell_type": "markdown",
   "metadata": {},
   "source": [
    "**Prediction Made by the Linear Support Vector Classifier on X_Test Set**"
   ]
  },
  {
   "cell_type": "code",
   "execution_count": 11,
   "metadata": {},
   "outputs": [],
   "source": [
    "SVC_Prediction = SVC.predict(X_Test)"
   ]
  },
  {
   "cell_type": "markdown",
   "metadata": {},
   "source": [
    "### Evaluation of Linear Support Vector Classifier :\n",
    "\n",
    "**Linear Support Vector Classifier (Classification Model) Evaluation Metrics**\n",
    "\n",
    "**Accuracy**"
   ]
  },
  {
   "cell_type": "code",
   "execution_count": 12,
   "metadata": {},
   "outputs": [
    {
     "name": "stdout",
     "output_type": "stream",
     "text": [
      "Mean Accuracy of Model on Train Set : 80.19%\n",
      "\n",
      "Mean Accuracy of Model on Test Set : 83.52%\n"
     ]
    }
   ],
   "source": [
    "print(f'Mean Accuracy of Model on Train Set : {SVC.score(X_Train, Y_Train)*100:.2f}%')\n",
    "print()\n",
    "print(f'Mean Accuracy of Model on Test Set : {SVC.score(X_Test, Y_Test)*100:.2f}%')"
   ]
  },
  {
   "cell_type": "markdown",
   "metadata": {},
   "source": [
    "**Confusion Matrix**"
   ]
  },
  {
   "cell_type": "code",
   "execution_count": 13,
   "metadata": {},
   "outputs": [
    {
     "name": "stdout",
     "output_type": "stream",
     "text": [
      "[[37  7]\n",
      " [ 8 39]]\n"
     ]
    }
   ],
   "source": [
    "from sklearn.metrics import confusion_matrix\n",
    "\n",
    "print(f'{confusion_matrix(Y_Test, SVC_Prediction)}')"
   ]
  },
  {
   "cell_type": "markdown",
   "metadata": {},
   "source": [
    "**Visualize Confusion Matrix**"
   ]
  },
  {
   "cell_type": "code",
   "execution_count": 14,
   "metadata": {},
   "outputs": [
    {
     "name": "stdout",
     "output_type": "stream",
     "text": [
      "Predicted Labels   0   1\n",
      "Actual Labels           \n",
      "0                 37   7\n",
      "1                  8  39\n"
     ]
    }
   ],
   "source": [
    "print(pd.crosstab(Y_Test, SVC_Prediction,\n",
    "            rownames = ['Actual Labels'],\n",
    "            colnames = ['Predicted Labels']))"
   ]
  },
  {
   "cell_type": "markdown",
   "metadata": {},
   "source": [
    "**Classification Report**"
   ]
  },
  {
   "cell_type": "code",
   "execution_count": 15,
   "metadata": {},
   "outputs": [
    {
     "name": "stdout",
     "output_type": "stream",
     "text": [
      "              precision    recall  f1-score   support\n",
      "\n",
      "           0       0.82      0.84      0.83        44\n",
      "           1       0.85      0.83      0.84        47\n",
      "\n",
      "    accuracy                           0.84        91\n",
      "   macro avg       0.84      0.84      0.84        91\n",
      "weighted avg       0.84      0.84      0.84        91\n",
      "\n"
     ]
    }
   ],
   "source": [
    "from sklearn.metrics import classification_report\n",
    "\n",
    "print(f'{classification_report(Y_Test, SVC_Prediction)}')"
   ]
  },
  {
   "cell_type": "markdown",
   "metadata": {},
   "source": [
    "### Accuracy can be Improved further using other Model \n",
    "\n",
    "**According to the Scikit Learn Algorithm Map We will Try Random Forest Classifier**"
   ]
  },
  {
   "cell_type": "code",
   "execution_count": 16,
   "metadata": {},
   "outputs": [],
   "source": [
    "from sklearn.ensemble import RandomForestClassifier"
   ]
  },
  {
   "cell_type": "markdown",
   "metadata": {},
   "source": [
    "**Splitting the Data into Independent Features and Dependent Variable (Label) Data Sets**"
   ]
  },
  {
   "cell_type": "code",
   "execution_count": 17,
   "metadata": {},
   "outputs": [],
   "source": [
    "X = Heart.drop('target', axis = 'columns')\n",
    "\n",
    "Y = Heart['target']"
   ]
  },
  {
   "cell_type": "markdown",
   "metadata": {},
   "source": [
    "**Splitting the Data Set into Train Set and Test Set**"
   ]
  },
  {
   "cell_type": "code",
   "execution_count": 18,
   "metadata": {},
   "outputs": [],
   "source": [
    "np.random.seed(101)\n",
    "\n",
    "X_Train, X_Test, Y_Train, Y_Test = train_test_split(X, Y, test_size = 0.3)"
   ]
  },
  {
   "cell_type": "markdown",
   "metadata": {},
   "source": [
    "**Instantiate Random Forest Classifier Object**"
   ]
  },
  {
   "cell_type": "code",
   "execution_count": 19,
   "metadata": {},
   "outputs": [],
   "source": [
    "RFC = RandomForestClassifier(n_estimators = 100)"
   ]
  },
  {
   "cell_type": "markdown",
   "metadata": {},
   "source": [
    "**Fit the Data to Random Forest Classifier to Find the Patterns between X_Train and Y_train Sets**"
   ]
  },
  {
   "cell_type": "code",
   "execution_count": 20,
   "metadata": {},
   "outputs": [
    {
     "data": {
      "text/plain": [
       "RandomForestClassifier(bootstrap=True, class_weight=None, criterion='gini',\n",
       "                       max_depth=None, max_features='auto', max_leaf_nodes=None,\n",
       "                       min_impurity_decrease=0.0, min_impurity_split=None,\n",
       "                       min_samples_leaf=1, min_samples_split=2,\n",
       "                       min_weight_fraction_leaf=0.0, n_estimators=100,\n",
       "                       n_jobs=None, oob_score=False, random_state=None,\n",
       "                       verbose=0, warm_start=False)"
      ]
     },
     "execution_count": 20,
     "metadata": {},
     "output_type": "execute_result"
    }
   ],
   "source": [
    "RFC.fit(X_Train, Y_Train)"
   ]
  },
  {
   "cell_type": "markdown",
   "metadata": {},
   "source": [
    "## A. Estimator Score Method\n",
    "\n",
    "**Mean Accuracy of Random Forest Classifier**"
   ]
  },
  {
   "cell_type": "code",
   "execution_count": 21,
   "metadata": {},
   "outputs": [
    {
     "name": "stdout",
     "output_type": "stream",
     "text": [
      "Random Forest Classifier Mean Accuracy on Train Set : 100.00%\n",
      "\n",
      "Random Forest Classifier Mean Accuracy on Test Set : 83.52%\n"
     ]
    }
   ],
   "source": [
    "print(f'Random Forest Classifier Mean Accuracy on Train Set : {RFC.score(X_Train, Y_Train)*100:.2f}%')\n",
    "print()\n",
    "print(f'Random Forest Classifier Mean Accuracy on Test Set : {RFC.score(X_Test, Y_Test)*100:.2f}%')"
   ]
  },
  {
   "cell_type": "markdown",
   "metadata": {},
   "source": [
    "**Prediction made by Random Forest Classifier on X_Test Data Set**"
   ]
  },
  {
   "cell_type": "code",
   "execution_count": 22,
   "metadata": {},
   "outputs": [],
   "source": [
    "RFC_Prediction = RFC.predict(X_Test)"
   ]
  },
  {
   "cell_type": "markdown",
   "metadata": {},
   "source": [
    "**Probability of Prediction**"
   ]
  },
  {
   "cell_type": "code",
   "execution_count": 23,
   "metadata": {},
   "outputs": [],
   "source": [
    "RFC_Probability = RFC.predict_proba(X_Test)"
   ]
  },
  {
   "cell_type": "code",
   "execution_count": 24,
   "metadata": {},
   "outputs": [
    {
     "name": "stdout",
     "output_type": "stream",
     "text": [
      "[[0.87 0.13]\n",
      " [0.19 0.81]\n",
      " [0.27 0.73]\n",
      " [0.04 0.96]\n",
      " [0.98 0.02]]\n"
     ]
    }
   ],
   "source": [
    "print(np.array(RFC.predict_proba(X_Test)[:5]))"
   ]
  },
  {
   "cell_type": "markdown",
   "metadata": {},
   "source": [
    "**Compare X_Test Data Set with Y_Test Labels**"
   ]
  },
  {
   "cell_type": "code",
   "execution_count": 25,
   "metadata": {},
   "outputs": [
    {
     "data": {
      "text/html": [
       "<div>\n",
       "<style scoped>\n",
       "    .dataframe tbody tr th:only-of-type {\n",
       "        vertical-align: middle;\n",
       "    }\n",
       "\n",
       "    .dataframe tbody tr th {\n",
       "        vertical-align: top;\n",
       "    }\n",
       "\n",
       "    .dataframe thead th {\n",
       "        text-align: right;\n",
       "    }\n",
       "</style>\n",
       "<table border=\"1\" class=\"dataframe\">\n",
       "  <thead>\n",
       "    <tr style=\"text-align: right;\">\n",
       "      <th></th>\n",
       "      <th>age</th>\n",
       "      <th>sex</th>\n",
       "      <th>cp</th>\n",
       "      <th>trestbps</th>\n",
       "      <th>chol</th>\n",
       "      <th>fbs</th>\n",
       "      <th>restecg</th>\n",
       "      <th>thalach</th>\n",
       "      <th>exang</th>\n",
       "      <th>oldpeak</th>\n",
       "      <th>slope</th>\n",
       "      <th>ca</th>\n",
       "      <th>thal</th>\n",
       "    </tr>\n",
       "  </thead>\n",
       "  <tbody>\n",
       "    <tr>\n",
       "      <td>221</td>\n",
       "      <td>55</td>\n",
       "      <td>1</td>\n",
       "      <td>0</td>\n",
       "      <td>140</td>\n",
       "      <td>217</td>\n",
       "      <td>0</td>\n",
       "      <td>1</td>\n",
       "      <td>111</td>\n",
       "      <td>1</td>\n",
       "      <td>5.6</td>\n",
       "      <td>0</td>\n",
       "      <td>0</td>\n",
       "      <td>3</td>\n",
       "    </tr>\n",
       "    <tr>\n",
       "      <td>8</td>\n",
       "      <td>52</td>\n",
       "      <td>1</td>\n",
       "      <td>2</td>\n",
       "      <td>172</td>\n",
       "      <td>199</td>\n",
       "      <td>1</td>\n",
       "      <td>1</td>\n",
       "      <td>162</td>\n",
       "      <td>0</td>\n",
       "      <td>0.5</td>\n",
       "      <td>2</td>\n",
       "      <td>0</td>\n",
       "      <td>3</td>\n",
       "    </tr>\n",
       "    <tr>\n",
       "      <td>89</td>\n",
       "      <td>58</td>\n",
       "      <td>0</td>\n",
       "      <td>0</td>\n",
       "      <td>100</td>\n",
       "      <td>248</td>\n",
       "      <td>0</td>\n",
       "      <td>0</td>\n",
       "      <td>122</td>\n",
       "      <td>0</td>\n",
       "      <td>1.0</td>\n",
       "      <td>1</td>\n",
       "      <td>0</td>\n",
       "      <td>2</td>\n",
       "    </tr>\n",
       "    <tr>\n",
       "      <td>154</td>\n",
       "      <td>39</td>\n",
       "      <td>0</td>\n",
       "      <td>2</td>\n",
       "      <td>138</td>\n",
       "      <td>220</td>\n",
       "      <td>0</td>\n",
       "      <td>1</td>\n",
       "      <td>152</td>\n",
       "      <td>0</td>\n",
       "      <td>0.0</td>\n",
       "      <td>1</td>\n",
       "      <td>0</td>\n",
       "      <td>2</td>\n",
       "    </tr>\n",
       "    <tr>\n",
       "      <td>201</td>\n",
       "      <td>60</td>\n",
       "      <td>1</td>\n",
       "      <td>0</td>\n",
       "      <td>125</td>\n",
       "      <td>258</td>\n",
       "      <td>0</td>\n",
       "      <td>0</td>\n",
       "      <td>141</td>\n",
       "      <td>1</td>\n",
       "      <td>2.8</td>\n",
       "      <td>1</td>\n",
       "      <td>1</td>\n",
       "      <td>3</td>\n",
       "    </tr>\n",
       "  </tbody>\n",
       "</table>\n",
       "</div>"
      ],
      "text/plain": [
       "     age  sex  cp  trestbps  chol  fbs  restecg  thalach  exang  oldpeak  \\\n",
       "221   55    1   0       140   217    0        1      111      1      5.6   \n",
       "8     52    1   2       172   199    1        1      162      0      0.5   \n",
       "89    58    0   0       100   248    0        0      122      0      1.0   \n",
       "154   39    0   2       138   220    0        1      152      0      0.0   \n",
       "201   60    1   0       125   258    0        0      141      1      2.8   \n",
       "\n",
       "     slope  ca  thal  \n",
       "221      0   0     3  \n",
       "8        2   0     3  \n",
       "89       1   0     2  \n",
       "154      1   0     2  \n",
       "201      1   1     3  "
      ]
     },
     "execution_count": 25,
     "metadata": {},
     "output_type": "execute_result"
    }
   ],
   "source": [
    "X_Test[:5]"
   ]
  },
  {
   "cell_type": "code",
   "execution_count": 26,
   "metadata": {},
   "outputs": [
    {
     "name": "stdout",
     "output_type": "stream",
     "text": [
      "[0 1 1 1 0]\n"
     ]
    }
   ],
   "source": [
    "print(f'{np.array(Y_Test[:5])}')"
   ]
  },
  {
   "cell_type": "markdown",
   "metadata": {},
   "source": [
    "### Evaluation of Random Forest Classifier :\n",
    "\n",
    "**Random Forest Classifier (Classification Model) Evaluation Metrics**\n",
    "\n",
    "**1.Accuracy**"
   ]
  },
  {
   "cell_type": "code",
   "execution_count": 27,
   "metadata": {},
   "outputs": [
    {
     "name": "stdout",
     "output_type": "stream",
     "text": [
      "Random Forest Classifier Mean Accuracy on Test Data Set : 83.52%\n"
     ]
    }
   ],
   "source": [
    "print(f'Random Forest Classifier Mean Accuracy on Test Data Set : {RFC.score(X_Test, Y_Test)*100:.2f}%')"
   ]
  },
  {
   "cell_type": "markdown",
   "metadata": {},
   "source": [
    "**2.Confusion Matrix**\n",
    "\n",
    "**Compare the Labels that a Model Predicts and the Actual Labels it was supposed to Predict.**\n",
    "\n",
    "**Simply its a Comparison between The Actual and Predicted Labels, i.e Y_Test with Prediction.**"
   ]
  },
  {
   "cell_type": "code",
   "execution_count": 28,
   "metadata": {},
   "outputs": [
    {
     "name": "stdout",
     "output_type": "stream",
     "text": [
      "Confusion Matrix of Random Forest Classifier :\n",
      "\n",
      "[[35  9]\n",
      " [ 6 41]]\n",
      "\n",
      "Predicted Labels   0   1\n",
      "Actual Labels           \n",
      "0                 35   9\n",
      "1                  6  41\n",
      "\n",
      "Total : 91\n",
      "\n",
      "Total Labels : 91\n"
     ]
    }
   ],
   "source": [
    "print(f'Confusion Matrix of Random Forest Classifier :')\n",
    "\n",
    "print()\n",
    "\n",
    "print(f'{confusion_matrix(Y_Test, RFC_Prediction)}')\n",
    "\n",
    "print()\n",
    "\n",
    "print(pd.crosstab(Y_Test, RFC_Prediction,\n",
    "            rownames = ['Actual Labels'],\n",
    "            colnames = ['Predicted Labels']))\n",
    "\n",
    "print()\n",
    "\n",
    "print(f'Total : {35 + 41 + 9 + 6}')\n",
    "\n",
    "print()\n",
    "\n",
    "print(f'Total Labels : {len(RFC_Prediction)}')"
   ]
  },
  {
   "cell_type": "markdown",
   "metadata": {},
   "source": [
    "<img src = 'Confusion Matrix Anatomy.png'>\n",
    "\n",
    "**1.True Positive : Model Predicts 1 when Truth (Actual) is 1**\n",
    "\n",
    "**2.False Positive : Model Predicts 1 when Truth (Actual) is 0**\n",
    "\n",
    "**3.True Negative : Model Predicts 0 when Truth (Actual) is 0**\n",
    "\n",
    "**4.False Negative : Model Predicts 0 when Truth (Actual) is 1**\n",
    "\n",
    "<img src ='Confusion Matrix.png'>"
   ]
  },
  {
   "cell_type": "markdown",
   "metadata": {},
   "source": [
    "**Heat Map of Confusion Matrix**"
   ]
  },
  {
   "cell_type": "code",
   "execution_count": 29,
   "metadata": {},
   "outputs": [],
   "source": [
    "import seaborn as sns"
   ]
  },
  {
   "cell_type": "code",
   "execution_count": 30,
   "metadata": {},
   "outputs": [
    {
     "data": {
      "image/png": "[encoded data removed]",
      "text/plain": [
       "<Figure size 432x288 with 2 Axes>"
      ]
     },
     "metadata": {},
     "output_type": "display_data"
    }
   ],
   "source": [
    "# Set Font Scale\n",
    "sns.set(font_scale=1.5)\n",
    "\n",
    "# Create Confusion Matrix \n",
    "Confusion_Matrix = confusion_matrix(Y_Test, RFC_Prediction)\n",
    "\n",
    "# Plot the Heatmap\n",
    "sns.heatmap(Confusion_Matrix);"
   ]
  },
  {
   "cell_type": "markdown",
   "metadata": {},
   "source": [
    "**For More Intuitive Heatmap**"
   ]
  },
  {
   "cell_type": "code",
   "execution_count": 31,
   "metadata": {},
   "outputs": [
    {
     "data": {
      "image/png": "[encoded data removed]",
      "text/plain": [
       "<Figure size 216x216 with 1 Axes>"
      ]
     },
     "metadata": {},
     "output_type": "display_data"
    }
   ],
   "source": [
    "def Plot_Confusion_Matrix(Confusion_Matrix) :\n",
    "    '''\n",
    "    \n",
    "    Plot Confusion Matrix using Seaborn's Heatmap\n",
    "    \n",
    "    Parameter\n",
    "    ---------\n",
    "    \n",
    "    Confusion Matrix.\n",
    "    \n",
    "    '''\n",
    "    \n",
    "    Fig, Axes = plt.subplots(figsize=(3,3))\n",
    "    \n",
    "    Axes = sns.heatmap(Confusion_Matrix, annot=True, cbar = False)\n",
    "    \n",
    "    plt.xlabel('True Labels')\n",
    "    \n",
    "    plt.ylabel('Predicted Labels')\n",
    "    \n",
    "    # Fix the Brok en Annotations\n",
    "    \n",
    "    Bottom, Top = Axes.get_ylim()\n",
    "    \n",
    "    Axes.set_ylim(Bottom + 0.5, Top - 0.5)\n",
    "    \n",
    "    plt.show()\n",
    "    \n",
    "Plot_Confusion_Matrix(Confusion_Matrix)"
   ]
  },
  {
   "cell_type": "markdown",
   "metadata": {},
   "source": [
    "**3.Classification Report**"
   ]
  },
  {
   "cell_type": "code",
   "execution_count": 32,
   "metadata": {},
   "outputs": [
    {
     "name": "stdout",
     "output_type": "stream",
     "text": [
      "Classification Report of Random Forest Classifier :\n",
      "\n",
      "              precision    recall  f1-score   support\n",
      "\n",
      "           0       0.85      0.80      0.82        44\n",
      "           1       0.82      0.87      0.85        47\n",
      "\n",
      "    accuracy                           0.84        91\n",
      "   macro avg       0.84      0.83      0.83        91\n",
      "weighted avg       0.84      0.84      0.83        91\n",
      "\n",
      "\n",
      "Classification Report in form of Data Frame : \n",
      "\n",
      "                   0          1  accuracy  macro avg  weighted avg\n",
      "precision   0.853659   0.820000  0.835165   0.836829      0.836274\n",
      "recall      0.795455   0.872340  0.835165   0.833897      0.835165\n",
      "f1-score    0.823529   0.845361  0.835165   0.834445      0.834805\n",
      "support    44.000000  47.000000  0.835165  91.000000     91.000000\n"
     ]
    }
   ],
   "source": [
    "print(f'Classification Report of Random Forest Classifier :')\n",
    "\n",
    "print()\n",
    "\n",
    "print(f'{classification_report(Y_Test, RFC_Prediction)}')\n",
    "\n",
    "print()\n",
    "\n",
    "print(f'Classification Report in form of Data Frame : ')\n",
    "\n",
    "print()\n",
    "\n",
    "print(pd.DataFrame(classification_report(Y_Test, RFC_Prediction, output_dict=True)))"
   ]
  },
  {
   "cell_type": "markdown",
   "metadata": {},
   "source": [
    "**Precision : Positive Predicted Value**\n",
    "\n",
    "**Recall : True Positive Rate**\n",
    "\n",
    "**F1 Score : Combination of Precision and Recall (Average)**\n",
    "\n",
    "**Support : Number of Samples Each Metric is Calculated on.**\n",
    "\n",
    "**Accuracy : Accuracy of Model, Perfect Accuracy is 1.0 or 100%**\n",
    "\n",
    "**Macro Average : Average between Classes of Labels (0 and 1), Classes must be Balanced (Almost Equal Number of 0's and 1's )**\n",
    "\n",
    "**[Metrics and Scoring](https://scikit-learn.org/stable/modules/model_evaluation.html)**"
   ]
  },
  {
   "cell_type": "markdown",
   "metadata": {},
   "source": [
    "### To Summarize Classification Metrics :\n",
    "\n",
    "**Accuracy : A Good Measure to Start with if the Classes are Balanced (Same Amount of 0 and 1 Labels.**\n",
    "\n",
    "**Precision and Recall becomes more Important when classes are Imbalanced.**\n",
    "\n",
    "**If False Positive Predictions are Worse than False Negatives, Aim for High Precisions.**\n",
    "\n",
    "**If False Negative Predictions are Worse than False positives, Aim for High Recall.**\n",
    "\n",
    "**F1 Score is a Combination of Precision and Recall.**"
   ]
  },
  {
   "cell_type": "markdown",
   "metadata": {},
   "source": [
    "**4.Area under Curve or ROC - Receiver Under Characteristic Curve (AUC/ROC)**\n",
    "\n",
    "**AUC/ROC curves are comparison of a Model's True Positive Rate (TPR) and False Positive Rate (FPR)**\n",
    "\n",
    "**1.True Positive : Model Predicts 1 when Truth (Actual) is 1**\n",
    "\n",
    "**2.False Positive : Model Predicts 1 when Truth (Actual) is 0**\n",
    "\n",
    "**3.True Negative : Model Predicts 0 when Truth (Actual) is 0**\n",
    "\n",
    "**4.False Negative : Model Predicts 0 when Truth (Actual) is 1**\n",
    "\n",
    "<img src ='Confusion Matrix.png'>"
   ]
  },
  {
   "cell_type": "code",
   "execution_count": 33,
   "metadata": {},
   "outputs": [],
   "source": [
    "from sklearn.metrics import roc_curve"
   ]
  },
  {
   "cell_type": "markdown",
   "metadata": {},
   "source": [
    "**Make Predictions with Probabilities**"
   ]
  },
  {
   "cell_type": "code",
   "execution_count": 34,
   "metadata": {},
   "outputs": [],
   "source": [
    "Positive_Probability = RFC_Probability[:,1]"
   ]
  },
  {
   "cell_type": "code",
   "execution_count": 35,
   "metadata": {},
   "outputs": [
    {
     "name": "stdout",
     "output_type": "stream",
     "text": [
      "[0.13 0.81 0.73 0.96 0.02 0.99 0.82 0.06 0.21 0.65]\n"
     ]
    }
   ],
   "source": [
    "print(Positive_Probability[:10])"
   ]
  },
  {
   "cell_type": "markdown",
   "metadata": {},
   "source": [
    "**Calculate FPR, TPR and Thresholds**"
   ]
  },
  {
   "cell_type": "code",
   "execution_count": 36,
   "metadata": {},
   "outputs": [],
   "source": [
    "FPR, TPR, Thresholds = roc_curve(Y_Test, Positive_Probability) \n",
    "\n",
    "# Y_True : Y_Test Labels \n",
    "\n",
    "# Y_Score : Probability Estimates of the Positive Class i.e. (Label : 1)"
   ]
  },
  {
   "cell_type": "markdown",
   "metadata": {},
   "source": [
    "**Check the False Positive Rate**"
   ]
  },
  {
   "cell_type": "code",
   "execution_count": 37,
   "metadata": {},
   "outputs": [
    {
     "name": "stdout",
     "output_type": "stream",
     "text": [
      "[0.         0.         0.02272727 0.02272727 0.02272727 0.02272727\n",
      " 0.04545455 0.06818182 0.06818182 0.06818182]\n"
     ]
    }
   ],
   "source": [
    "print(FPR[:10])"
   ]
  },
  {
   "cell_type": "markdown",
   "metadata": {},
   "source": [
    "**Check the True Positive Rate**"
   ]
  },
  {
   "cell_type": "code",
   "execution_count": 38,
   "metadata": {},
   "outputs": [
    {
     "name": "stdout",
     "output_type": "stream",
     "text": [
      "[0.         0.10638298 0.19148936 0.27659574 0.31914894 0.4893617\n",
      " 0.5106383  0.5106383  0.55319149 0.61702128]\n"
     ]
    }
   ],
   "source": [
    "print(TPR[:10])"
   ]
  },
  {
   "cell_type": "markdown",
   "metadata": {},
   "source": [
    "**Creating a Function to Plot ROC Curve**"
   ]
  },
  {
   "cell_type": "code",
   "execution_count": 39,
   "metadata": {},
   "outputs": [
    {
     "data": {
      "image/png": "[encoded data removed]",
      "text/plain": [
       "<Figure size 432x288 with 1 Axes>"
      ]
     },
     "metadata": {},
     "output_type": "display_data"
    }
   ],
   "source": [
    "def Plot_ROC_Curve(FPR, TPR) :\n",
    "    ''' \n",
    "    Plots Receiver Under Characteristic Curve (ROC Curve)\n",
    "    \n",
    "    Parameters \n",
    "    ----------\n",
    "    \n",
    "    FPR : False Positive Rate.\n",
    "    \n",
    "    TPR : True Positive Rate.\n",
    "    \n",
    "    '''\n",
    "    \n",
    "    # Theme Style\n",
    "    \n",
    "    plt.style.use('seaborn-whitegrid')\n",
    "    \n",
    "    # Plot ROC Curve\n",
    "    \n",
    "    plt.plot(FPR, TPR, color = 'orange', label = 'ROC')\n",
    "    \n",
    "    # Plot Line with no Predictive Powers (Base Line)\n",
    "    \n",
    "    plt.plot([0,1], [0,1], color = 'blue', linestyle = '--', label = 'Guessing')\n",
    "    \n",
    "    # Customize the Plot\n",
    "    \n",
    "    plt.xlabel('False Positive Rate (FPR)')\n",
    "    \n",
    "    plt.ylabel('True Positive Rate (TPR)')\n",
    "    \n",
    "    plt.title('Receiver Under Characteristic Curve (ROC Curve)')\n",
    "    \n",
    "    plt.legend()\n",
    "    \n",
    "    plt.show()\n",
    "    \n",
    "Plot_ROC_Curve(FPR, TPR)"
   ]
  },
  {
   "cell_type": "markdown",
   "metadata": {},
   "source": [
    "**ROC AUC Score**"
   ]
  },
  {
   "cell_type": "code",
   "execution_count": 40,
   "metadata": {},
   "outputs": [],
   "source": [
    "from sklearn.metrics import roc_auc_score"
   ]
  },
  {
   "cell_type": "code",
   "execution_count": 41,
   "metadata": {},
   "outputs": [
    {
     "name": "stdout",
     "output_type": "stream",
     "text": [
      "ROC AUC Score : 91.61%\n"
     ]
    }
   ],
   "source": [
    "print(f'ROC AUC Score : {roc_auc_score(Y_Test, Positive_Probability)*100:.2f}%') # Max AUC Score we can get is 100%."
   ]
  },
  {
   "cell_type": "markdown",
   "metadata": {},
   "source": [
    "**Plot Perfect ROC Curve**"
   ]
  },
  {
   "cell_type": "code",
   "execution_count": 42,
   "metadata": {},
   "outputs": [
    {
     "data": {
      "image/png": "[encoded data removed]",
      "text/plain": [
       "<Figure size 432x288 with 1 Axes>"
      ]
     },
     "metadata": {},
     "output_type": "display_data"
    }
   ],
   "source": [
    "FPR, TPR, Thresholds = roc_curve(Y_Test, Y_Test) # Pass Both Parameters  Y_Test Labels.\n",
    "\n",
    "Plot_ROC_Curve(FPR, TPR)"
   ]
  },
  {
   "cell_type": "markdown",
   "metadata": {},
   "source": [
    "**Perfect AUC Score**"
   ]
  },
  {
   "cell_type": "code",
   "execution_count": 43,
   "metadata": {},
   "outputs": [
    {
     "name": "stdout",
     "output_type": "stream",
     "text": [
      "Perfect AUC Score : 100.00%\n"
     ]
    }
   ],
   "source": [
    "print(f'Perfect AUC Score : {roc_auc_score(Y_Test, Y_Test)*100:.2f}%') # Pass Both Parameters  Y_Test Labels."
   ]
  },
  {
   "cell_type": "markdown",
   "metadata": {},
   "source": [
    "**Perfect ROC Curve and AUC Score mean Perfect Model with only True Positives and No False Positives.**"
   ]
  },
  {
   "cell_type": "markdown",
   "metadata": {},
   "source": [
    "### Using the Scoring Parameter"
   ]
  },
  {
   "cell_type": "markdown",
   "metadata": {},
   "source": [
    "**Let's Try Evaluation of Random Forest Classifier using K Fold Cross Validation**\n",
    "\n",
    "<img src = 'Cross Validation.png'>"
   ]
  },
  {
   "cell_type": "markdown",
   "metadata": {},
   "source": [
    "**K Fold Cross Validation can help us to Find Best Estimator we can get for our Data Set**"
   ]
  },
  {
   "cell_type": "code",
   "execution_count": 44,
   "metadata": {},
   "outputs": [],
   "source": [
    "from sklearn.model_selection import cross_val_score\n",
    "\n",
    "np.random.seed(101)\n",
    "\n",
    "CVS = cross_val_score(RFC, X, Y, cv=5)"
   ]
  },
  {
   "cell_type": "markdown",
   "metadata": {},
   "source": [
    "**Model is Trained on 5 Different Versions of Training Data Set, and Evaluated on 5 Different Versions of Test Data Set**"
   ]
  },
  {
   "cell_type": "code",
   "execution_count": 45,
   "metadata": {},
   "outputs": [
    {
     "name": "stdout",
     "output_type": "stream",
     "text": [
      "Cross Validation Score : [0.81967213 0.86885246 0.78688525 0.8        0.75      ]\n"
     ]
    }
   ],
   "source": [
    "print(f'Cross Validation Score : {CVS}')"
   ]
  },
  {
   "cell_type": "markdown",
   "metadata": {},
   "source": [
    "**K Fold Cross Validation Mean Score for Random Forest Classifier :**\n",
    "\n",
    "## B.The Scoring Parameter :\n",
    "\n",
    "**Model Evaluation Tools using Cross Value Score or Grid Search CV rely on Scoring Parameters.**\n",
    "\n",
    "**Default Scoring Parameter = None (Accuracy)**"
   ]
  },
  {
   "cell_type": "code",
   "execution_count": 46,
   "metadata": {},
   "outputs": [
    {
     "name": "stdout",
     "output_type": "stream",
     "text": [
      "Cross Validation Mean Score : 80.51% \n"
     ]
    }
   ],
   "source": [
    "np.random.seed(101)\n",
    "\n",
    "CVS = cross_val_score(RFC, X, Y, cv=5, scoring=None)\n",
    "\n",
    "print(f'Cross Validation Mean Score : {np.mean(CVS)*100:.2f}% ')"
   ]
  },
  {
   "cell_type": "markdown",
   "metadata": {},
   "source": [
    "**Scoring Parameter = Accuracy**"
   ]
  },
  {
   "cell_type": "code",
   "execution_count": 47,
   "metadata": {},
   "outputs": [
    {
     "name": "stdout",
     "output_type": "stream",
     "text": [
      "Cross Validation Mean Score : 80.51%\n"
     ]
    }
   ],
   "source": [
    "np.random.seed(101)\n",
    "\n",
    "CVS_Accuracy = cross_val_score(RFC,X, Y, cv = 5, scoring='accuracy')\n",
    "\n",
    "print(f'Cross Validation Mean Score : {np.mean(CVS_Accuracy)*100:.2f}%')"
   ]
  },
  {
   "cell_type": "markdown",
   "metadata": {},
   "source": [
    "**Scoring Parameter = Precision**"
   ]
  },
  {
   "cell_type": "code",
   "execution_count": 48,
   "metadata": {},
   "outputs": [
    {
     "name": "stdout",
     "output_type": "stream",
     "text": [
      "Cross Validation Mean Score : 81.16%\n"
     ]
    }
   ],
   "source": [
    "np.random.seed(101)\n",
    "\n",
    "CVS_Precision = cross_val_score(RFC, X, Y, cv = 5, scoring = 'precision')\n",
    "\n",
    "print(f'Cross Validation Mean Score : {np.mean(CVS_Precision)*100:.2f}%')"
   ]
  },
  {
   "cell_type": "markdown",
   "metadata": {},
   "source": [
    " **Scoring Parameter = Recall**"
   ]
  },
  {
   "cell_type": "code",
   "execution_count": 49,
   "metadata": {},
   "outputs": [
    {
     "name": "stdout",
     "output_type": "stream",
     "text": [
      "Cross Validation Mean Score : 84.24%\n"
     ]
    }
   ],
   "source": [
    "np.random.seed(101)\n",
    "\n",
    "CVS_Recall = cross_val_score(RFC, X, Y,cv = 5, scoring = 'recall')\n",
    "\n",
    "print(f'Cross Validation Mean Score : {np.mean(CVS_Recall)*100:.2f}%')"
   ]
  },
  {
   "cell_type": "markdown",
   "metadata": {},
   "source": [
    "**Scoring Parameter = F1 Score**"
   ]
  },
  {
   "cell_type": "code",
   "execution_count": 50,
   "metadata": {},
   "outputs": [
    {
     "name": "stdout",
     "output_type": "stream",
     "text": [
      "Cross Validation Mean Score : 82.98%\n"
     ]
    }
   ],
   "source": [
    "np.random.seed(101)\n",
    "\n",
    "CVS_F1 = cross_val_score(RFC, X, Y, scoring = 'f1')\n",
    "\n",
    "print(f'Cross Validation Mean Score : {np.mean(CVS_F1)*100:.2f}%')"
   ]
  },
  {
   "cell_type": "markdown",
   "metadata": {},
   "source": [
    "## C. Problem Specific Metric Function\n",
    "\n",
    "**Classification Evaluation Functions**"
   ]
  },
  {
   "cell_type": "code",
   "execution_count": 51,
   "metadata": {},
   "outputs": [],
   "source": [
    "from sklearn.metrics import accuracy_score, precision_score, recall_score, f1_score"
   ]
  },
  {
   "cell_type": "code",
   "execution_count": 52,
   "metadata": {},
   "outputs": [
    {
     "name": "stdout",
     "output_type": "stream",
     "text": [
      "Accuracy Score : 83.52%\n",
      "\n",
      "Precision Score : 82.00%\n",
      "\n",
      "Recall Score : 87.23%\n",
      "\n",
      "F1 Score : 84.54%\n"
     ]
    }
   ],
   "source": [
    "print(f'Accuracy Score : {accuracy_score(Y_Test, RFC_Prediction)*100:.2f}%')\n",
    "print()\n",
    "print(f'Precision Score : {precision_score(Y_Test, RFC_Prediction)*100:.2f}%')\n",
    "print()\n",
    "print(f'Recall Score : {recall_score(Y_Test, RFC_Prediction)*100:.2f}%')\n",
    "print()\n",
    "print(f'F1 Score : {f1_score(Y_Test, RFC_Prediction)*100:.2f}%')"
   ]
  }
 ],
 "metadata": {
  "kernelspec": {
   "display_name": "Python 3",
   "language": "python",
   "name": "python3"
  },
  "language_info": {
   "codemirror_mode": {
    "name": "ipython",
    "version": 3
   },
   "file_extension": ".py",
   "mimetype": "text/x-python",
   "name": "python",
   "nbconvert_exporter": "python",
   "pygments_lexer": "ipython3",
   "version": "3.7.4"
  }
 },
 "nbformat": 4,
 "nbformat_minor": 2
}
